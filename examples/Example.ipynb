{
 "cells": [
  {
   "cell_type": "code",
   "execution_count": 1,
   "id": "8d7ce0f1-a278-48f8-b2d0-1de5be74c7aa",
   "metadata": {
    "tags": []
   },
   "outputs": [],
   "source": [
    "import gym\n",
    "import numpy as np\n",
    "import torch\n",
    "import torch.nn as nn\n",
    "import torch.distributions as td\n",
    "\n",
    "from qdkit.individual import TorchIndividual, Individual\n",
    "from qdkit.utils import EvaluateOutput\n",
    "from qdkit.map import GridMap\n",
    "from qdkit.map_elites import MapElites\n",
    "from qdkit.mutation import CrossoverMutation, GaussianNoiseMutation, Mutation, MutationSet"
   ]
  },
  {
   "cell_type": "markdown",
   "id": "4a5f0ab6-8e58-4025-9804-76693782a54b",
   "metadata": {},
   "source": [
    "## LunarLander policy"
   ]
  },
  {
   "cell_type": "code",
   "execution_count": 2,
   "id": "6c547050-6745-4166-9d7c-10a07c4bd93e",
   "metadata": {
    "tags": []
   },
   "outputs": [],
   "source": [
    "class LunarLanderPolicy(TorchIndividual):\n",
    "    def __init__(self):\n",
    "        super().__init__()\n",
    "        self.input_dims = 8\n",
    "        self.action_dims = 4\n",
    "\n",
    "        self.network = nn.Sequential(\n",
    "            nn.Linear(8, 4),\n",
    "            # nn.Tanh(),\n",
    "            # nn.Linear(128, 4)\n",
    "        )\n",
    "\n",
    "        self.__device_param_dummy__ = nn.Parameter(\n",
    "            torch.empty(0)\n",
    "        )  # to keep track of device\n",
    "\n",
    "    @property\n",
    "    def device(self):\n",
    "        return self.__device_param_dummy__.device\n",
    "\n",
    "    def forward(self, state) -> torch.Tensor:\n",
    "        state = state.float()\n",
    "        output = self.network(state)\n",
    "        return output.squeeze().argmax(-1)\n",
    "\n",
    "    def act(self, state) -> np.array:\n",
    "        with torch.no_grad():\n",
    "            torch_state = torch.from_numpy(state).view(1,-1).to(self.device)\n",
    "            action = self.forward(torch_state).item()\n",
    "        return action"
   ]
  },
  {
   "cell_type": "code",
   "execution_count": 3,
   "id": "8cb04fe0-4956-4f49-8298-e1c8eb219b15",
   "metadata": {
    "tags": []
   },
   "outputs": [],
   "source": [
    "policy = LunarLanderPolicy()"
   ]
  },
  {
   "cell_type": "markdown",
   "id": "700eccae-7a31-4869-b9b4-eab847c28821",
   "metadata": {
    "tags": []
   },
   "source": [
    "## Mutation"
   ]
  },
  {
   "cell_type": "code",
   "execution_count": 4,
   "id": "e3f89a43-4bc2-4773-a10c-2453f0dff4d8",
   "metadata": {
    "tags": []
   },
   "outputs": [],
   "source": [
    "def gym_evaluate(individual: Individual, render=False, max_steps=1000):\n",
    "    env = gym.make(\"LunarLander-v2\")\n",
    "    states = []\n",
    "    fitness = 0\n",
    "    done = False\n",
    "    state, _ = env.reset(seed=52)\n",
    "    states = [state]\n",
    "    step = 0\n",
    "    while not done:\n",
    "        if step >= max_steps:\n",
    "            break\n",
    "        if render:\n",
    "            env.render()\n",
    "        inp = state\n",
    "        action = env.action_space.sample()\n",
    "        # action = individual.act(inp)\n",
    "        next_state, reward, done, truncated, _ = env.step(action)\n",
    "        fitness += reward\n",
    "        state = next_state\n",
    "        states.append(state)\n",
    "        step += 1\n",
    "    return EvaluateOutput(states=states, fitness=fitness, individual=None)"
   ]
  },
  {
   "cell_type": "code",
   "execution_count": 5,
   "id": "f52d438a-7063-4301-b8c9-1e03bc207f8a",
   "metadata": {
    "tags": []
   },
   "outputs": [
    {
     "name": "stderr",
     "output_type": "stream",
     "text": [
      "/Users/shyam/anaconda3/envs/py310/lib/python3.10/site-packages/gym/envs/box2d/lunar_lander.py:604: UserWarning: \u001b[33mWARN: You are calling render method without specifying any render mode. You can specify the render_mode at initialization, e.g. gym(\"LunarLander-v2\", render_mode=\"rgb_array\")\u001b[0m\n",
      "  gym.logger.warn(\n",
      "/Users/shyam/anaconda3/envs/py310/lib/python3.10/site-packages/gym/utils/passive_env_checker.py:233: DeprecationWarning: `np.bool8` is a deprecated alias for `np.bool_`.  (Deprecated NumPy 1.24)\n",
      "  if not isinstance(terminated, (bool, np.bool8)):\n"
     ]
    }
   ],
   "source": [
    "eval_output = gym_evaluate(None, render=True)"
   ]
  },
  {
   "cell_type": "code",
   "execution_count": 6,
   "id": "a9ec575c-3f9a-4558-bd3a-b4b618c797f7",
   "metadata": {
    "tags": []
   },
   "outputs": [],
   "source": [
    "def lunar_lander_bc(individual, eval_output):\n",
    "    all_y_vels = []\n",
    "    states = eval_output.states\n",
    "    impact_x_pos = None\n",
    "    for obs in states:\n",
    "        x_pos = obs[0]\n",
    "        y_vel = obs[3]\n",
    "        leg0_touch = bool(obs[6])\n",
    "        leg1_touch = bool(obs[7])\n",
    "        all_y_vels.append(y_vel)\n",
    "\n",
    "        # Check if the lunar lander is impacting for the first time.\n",
    "        if impact_x_pos is None and (leg0_touch or leg1_touch):\n",
    "            impact_x_pos = x_pos\n",
    "            impact_y_vel = y_vel\n",
    "\n",
    "    if impact_x_pos is None:\n",
    "        impact_x_pos = x_pos\n",
    "        impact_y_vel = min(all_y_vels)\n",
    "\n",
    "    return np.array([impact_x_pos, impact_y_vel])"
   ]
  },
  {
   "cell_type": "code",
   "execution_count": 7,
   "id": "ba2f541c-04fd-4b6c-88fa-f72c5a04c6ea",
   "metadata": {
    "tags": []
   },
   "outputs": [
    {
     "data": {
      "text/plain": [
       "array([-0.40148544, -1.5157455 ], dtype=float32)"
      ]
     },
     "execution_count": 7,
     "metadata": {},
     "output_type": "execute_result"
    }
   ],
   "source": [
    "lunar_lander_bc(policy, eval_output)"
   ]
  },
  {
   "cell_type": "code",
   "execution_count": 8,
   "id": "a9f2a559-ceee-443e-b670-1dbb8a26088d",
   "metadata": {
    "tags": []
   },
   "outputs": [],
   "source": [
    "grid_map = GridMap(\n",
    "    behavior_characteristic_fn = lunar_lander_bc,\n",
    "    behavior_space = [(-1.0, 1.0), (-3.0, 0.0)],\n",
    "    n_bins=50,\n",
    "    niche_size=10,\n",
    "    sampling_method=\"sorted\"\n",
    ")"
   ]
  },
  {
   "cell_type": "code",
   "execution_count": 9,
   "id": "6822c864-c35a-4bbe-be49-6ecb0fabe318",
   "metadata": {
    "tags": []
   },
   "outputs": [],
   "source": [
    "mutations = [\n",
    "    GaussianNoiseMutation(std=0.2),\n",
    "    CrossoverMutation(\n",
    "        parameter_proportion=0.5,\n",
    "        sampling_method=\"sorted\",\n",
    "        sample_segment=True\n",
    "    )\n",
    "]"
   ]
  },
  {
   "cell_type": "code",
   "execution_count": 10,
   "id": "ae976b3b-83c2-4eb7-b51e-998a5ea343cf",
   "metadata": {
    "tags": []
   },
   "outputs": [],
   "source": [
    "map_elites = MapElites(\n",
    "    initial_pop = [LunarLanderPolicy() for _ in range(100)],\n",
    "    map=grid_map,\n",
    "    evaluate_fn=gym_evaluate,\n",
    "    mutations=mutations\n",
    ")"
   ]
  },
  {
   "cell_type": "code",
   "execution_count": null,
   "id": "c456d692-7a99-4585-83d7-97543f193d44",
   "metadata": {
    "tags": []
   },
   "outputs": [
    {
     "name": "stderr",
     "output_type": "stream",
     "text": [
      "Max Fitness: 62.59462719169926:  98%|▉| 98008/100000 [10:02<00:12,"
     ]
    }
   ],
   "source": [
    "map_elites.run(100000)"
   ]
  },
  {
   "cell_type": "code",
   "execution_count": null,
   "id": "2f8ec573-bb78-4c72-8318-49813817a63c",
   "metadata": {},
   "outputs": [],
   "source": []
  }
 ],
 "metadata": {
  "kernelspec": {
   "display_name": "Python [conda env:py310] *",
   "language": "python",
   "name": "conda-env-py310-py"
  },
  "language_info": {
   "codemirror_mode": {
    "name": "ipython",
    "version": 3
   },
   "file_extension": ".py",
   "mimetype": "text/x-python",
   "name": "python",
   "nbconvert_exporter": "python",
   "pygments_lexer": "ipython3",
   "version": "3.10.0"
  }
 },
 "nbformat": 4,
 "nbformat_minor": 5
}
